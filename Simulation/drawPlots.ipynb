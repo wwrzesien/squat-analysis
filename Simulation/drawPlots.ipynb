{
 "cells": [
  {
   "cell_type": "code",
   "execution_count": 85,
   "metadata": {},
   "outputs": [],
   "source": [
    "from matplotlib import pyplot as plt\n",
    "import csv\n",
    "\n",
    "###################################\n",
    "# drawPlots.ipynb is a program that will draw plots \n",
    "# (knee_angle, ankle_angle, knee_moment, ankle_moment).\n",
    "#\n"
   ]
  },
  {
   "cell_type": "code",
   "execution_count": 86,
   "metadata": {},
   "outputs": [],
   "source": [
    "# Set filename\n",
    "filename = 'plot.csv'\n"
   ]
  },
  {
   "cell_type": "code",
   "execution_count": 87,
   "metadata": {},
   "outputs": [],
   "source": [
    "with open(filename, 'r') as csvRead:\n",
    "    file = csv.DictReader(csvRead)\n",
    "    \n",
    "    header = file.fieldnames\n",
    "    \n",
    "    # Create data dict\n",
    "    for col in header:\n",
    "        data[col] = []\n",
    "    \n",
    "    # Read data\n",
    "    for row in file:\n",
    "        for cell in row:\n",
    "            if row[cell]:\n",
    "                data[cell].append(float(row[cell]))\n",
    "    "
   ]
  },
  {
   "cell_type": "code",
   "execution_count": 88,
   "metadata": {},
   "outputs": [
    {
     "name": "stdout",
     "output_type": "stream",
     "text": [
      "[0.0, 0.03, 0.07, 0.1, 0.13, 0.17, 0.2, 0.23, 0.27, 0.3, 0.33, 0.37, 0.4, 0.43, 0.47, 0.5, 0.53, 0.57, 0.6, 0.63, 0.67, 0.7, 0.74, 0.77, 0.8, 0.84, 0.87, 0.9, 0.94, 0.97, 1.0, 1.04, 1.07, 1.1, 1.14, 1.17, 1.2, 1.24, 1.27, 1.3, 1.34, 1.37, 1.4, 1.44, 1.47, 1.5, 1.54, 1.57, 1.6, 1.64, 1.67, 1.7, 1.74, 1.77, 1.8, 1.84, 1.87, 1.9, 1.94, 1.97, 2.0, 2.04, 2.07, 2.1, 2.13, 2.16, 2.19, 2.22, 2.25, 2.28, 2.31, 2.34, 2.5, 3.0]\n"
     ]
    }
   ],
   "source": [
    "print(data['time_k'])"
   ]
  },
  {
   "cell_type": "code",
   "execution_count": 120,
   "metadata": {},
   "outputs": [],
   "source": [
    "# Plot Knee_angle\n",
    "plt.plot(data['time_k'], data['knee_angle_r'], '-', color='black')\n",
    "\n",
    "# Axis limits\n",
    "plt.xlim([0.00, 3.00])\n",
    "plt.ylim([0, 133])\n",
    "\n",
    "# Labels\n",
    "plt.xlabel('Czas [s]')\n",
    "plt.ylabel('Kąt [deg]')\n",
    "\n",
    "# Show the major grid lines with dark grey lines\n",
    "plt.grid(b=True, which='major', color='#999999', linestyle='-')\n",
    "\n",
    "# Show the minor grid lines with very faint and almost transparent grey lines\n",
    "plt.minorticks_on()\n",
    "plt.grid(b=True, which='minor', color='#999999', linestyle='-', alpha=0.2)\n",
    "\n",
    "#Save\n",
    "plt.savefig('kat_ugiecia_kolano.png', dpi=200)\n",
    "\n",
    "plt.show()"
   ]
  },
  {
   "cell_type": "code",
   "execution_count": 117,
   "metadata": {},
   "outputs": [],
   "source": [
    "# Plot Ankle_angle\n",
    "plt.plot(data['time_k'], data['ankle_angle_r'], '-', color='black')\n",
    "\n",
    "# Axis limits\n",
    "plt.xlim([0.00, 3.00])\n",
    "plt.ylim([0, 37])\n",
    "\n",
    "# Labels\n",
    "plt.xlabel('Czas [s]')\n",
    "plt.ylabel('Kąt [deg]')\n",
    "\n",
    "# Show the major grid lines with dark grey lines\n",
    "plt.grid(b=True, which='major', color='#999999', linestyle='-')\n",
    "\n",
    "# Show the minor grid lines with very faint and almost transparent grey lines\n",
    "plt.minorticks_on()\n",
    "plt.grid(b=True, which='minor', color='#999999', linestyle='-', alpha=0.2)\n",
    "\n",
    "#Save\n",
    "plt.savefig('kat_ugiecia_kostka.png', dpi=200)\n",
    "\n",
    "plt.show()"
   ]
  },
  {
   "cell_type": "code",
   "execution_count": 121,
   "metadata": {},
   "outputs": [],
   "source": [
    "# Plot Knee_moment\n",
    "plt.plot(data['time_p'], data['pn_kol'], '--', color='black')\n",
    "plt.plot(data['time_p'], data['pp_kol'], '-', color='black')\n",
    "plt.legend(['Przysiad nieprawidłowy', 'Przysiad prawidłowy'])\n",
    "\n",
    "# Axis limits\n",
    "plt.xlim([0.00, 3.00])\n",
    "plt.ylim([-100, 33])\n",
    "\n",
    "# Labels\n",
    "plt.xlabel('Czas [s]')\n",
    "plt.ylabel('Moment [Nm]')\n",
    "\n",
    "# Show the major grid lines with dark grey lines\n",
    "plt.grid(b=True, which='major', color='#999999', linestyle='-')\n",
    "\n",
    "# Show the minor grid lines with very faint and almost transparent grey lines\n",
    "plt.minorticks_on()\n",
    "plt.grid(b=True, which='minor', color='#999999', linestyle='-', alpha=0.2)\n",
    "\n",
    "#Save\n",
    "plt.savefig('moment_kolano.png', dpi=200)\n",
    "\n",
    "plt.show()"
   ]
  },
  {
   "cell_type": "code",
   "execution_count": 112,
   "metadata": {},
   "outputs": [],
   "source": [
    "# Plot Ankle_moment\n",
    "plt.plot(data['time_p'], data['pn_kos'], '--', color='black')\n",
    "plt.plot(data['time_p'], data['pp_kos'], '-', color='black')\n",
    "plt.legend(['Przysiad nieprawidłowy', 'Przysiad prawidłowy'])\n",
    "\n",
    "# Axis limits\n",
    "plt.xlim([0.00, 3.00])\n",
    "plt.ylim([-2, 27])\n",
    "\n",
    "# Labels\n",
    "plt.xlabel('Czas [s]')\n",
    "plt.ylabel('Moment [Nm]')\n",
    "\n",
    "# Show the major grid lines with dark grey lines\n",
    "plt.grid(b=True, which='major', color='#999999', linestyle='-')\n",
    "\n",
    "# Show the minor grid lines with very faint and almost transparent grey lines\n",
    "plt.minorticks_on()\n",
    "plt.grid(b=True, which='minor', color='#999999', linestyle='-', alpha=0.2)\n",
    "\n",
    "#Save\n",
    "plt.savefig('moment_kostka.png', dpi=200)\n",
    "\n",
    "plt.show()"
   ]
  },
  {
   "cell_type": "code",
   "execution_count": null,
   "metadata": {},
   "outputs": [],
   "source": []
  }
 ],
 "metadata": {
  "kernelspec": {
   "display_name": "Python 3",
   "language": "python",
   "name": "python3"
  },
  "language_info": {
   "codemirror_mode": {
    "name": "ipython",
    "version": 3
   },
   "file_extension": ".py",
   "mimetype": "text/x-python",
   "name": "python",
   "nbconvert_exporter": "python",
   "pygments_lexer": "ipython3",
   "version": "3.7.0"
  },
  "pycharm": {
   "stem_cell": {
    "cell_type": "raw",
    "source": [],
    "metadata": {
     "collapsed": false
    }
   }
  }
 },
 "nbformat": 4,
 "nbformat_minor": 2
}